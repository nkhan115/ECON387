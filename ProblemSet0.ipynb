{
 "metadata": {
  "language_info": {
   "codemirror_mode": {
    "name": "ipython",
    "version": 3
   },
   "file_extension": ".py",
   "mimetype": "text/x-python",
   "name": "python",
   "nbconvert_exporter": "python",
   "pygments_lexer": "ipython3",
   "version": "3.8.5"
  },
  "orig_nbformat": 2,
  "kernelspec": {
   "name": "python385jvsc74a57bd0dca0ade3e726a953b501b15e8e990130d2b7799f14cfd9f4271676035ebe5511",
   "display_name": "Python 3.8.5 64-bit ('base': conda)"
  }
 },
 "nbformat": 4,
 "nbformat_minor": 2,
 "cells": [
  {
   "cell_type": "code",
   "execution_count": 1,
   "metadata": {},
   "outputs": [],
   "source": [
    "import math"
   ]
  },
  {
   "cell_type": "code",
   "execution_count": 6,
   "metadata": {},
   "outputs": [
    {
     "output_type": "stream",
     "name": "stdout",
     "text": [
      "<class 'int'>\n<class 'float'>\n<class 'str'>\n<class 'complex'>\n<class 'str'>\n<class 'float'>\n"
     ]
    }
   ],
   "source": [
    "'''Problem Set 0 - ECON 387\n",
    "Find the type of the following variables'''\n",
    "\n",
    "x=2\n",
    "print(type(x))\n",
    "\n",
    "x=2.0\n",
    "print(type(x))\n",
    "\n",
    "x=\"2.0\"\n",
    "print(type(x))\n",
    "\n",
    "x= 2 + 0j\n",
    "print(type(x))\n",
    "\n",
    "x = \"2 + 0j\"\n",
    "print(type(x))\n",
    "\n",
    "x = math.pi\n",
    "print(type(x))"
   ]
  },
  {
   "cell_type": "code",
   "execution_count": 12,
   "metadata": {},
   "outputs": [
    {
     "output_type": "stream",
     "name": "stdout",
     "text": [
      "24\nsyntax\n8\nPython hAs A nice syntAx\n"
     ]
    }
   ],
   "source": [
    "'''Generate the following string variable, s = \"Python has a nice syntax\"'''\n",
    "s = \"Python has a nice syntax\"\n",
    "\n",
    "'Compute the number of characters in s'\n",
    "print(len(s))\n",
    "\n",
    "'Slice s to obtain the substring \"syntax\" '\n",
    "print(s[18:])\n",
    "\n",
    "'Find the first occurance of \"a\" in s'\n",
    "print(s.find('a'))\n",
    "\n",
    "'Replace all occurences of \"a\" in s to \"A\" '\n",
    "print(s.replace(\"a\", \"A\"))\n",
    "\n",
    "'''Add the following string to s, \"But, Stata's is counterintuitive\". '''\n",
    "s = s + \"But, Stat's is counterintuitive\""
   ]
  },
  {
   "cell_type": "code",
   "execution_count": 20,
   "metadata": {},
   "outputs": [
    {
     "output_type": "stream",
     "name": "stdout",
     "text": [
      "[[8, 7, 0, 3.141592653589793, 1], ['abc', False, -3, 12]]\n[[8, 7, 0, 1], ['abc', True, -3, 12]]\n[[8, 7, 0, 1], ['abc', True, -3, 12], [3.141592653589793, 2.718281828459045, (3-1j), False]]\n"
     ]
    }
   ],
   "source": [
    "'Generate the following list, y = [[1, math.pi, 0,7,8], [\"abc\", bool(0), -3, 12]]'\n",
    "y = [[1, math.pi, 0,7,8], [\"abc\", bool(0), -3, 12]]\n",
    "\n",
    "'Reversing the first list in y using a reverse method'\n",
    "y = [y[0][::-1], y[1]]\n",
    "print(y)\n",
    "\n",
    "'Replace bool(0) to bool(1) in the second list in y'\n",
    "y[1][1] = bool(1)\n",
    "\n",
    "'Drop pi from the first list in y'\n",
    "y[0].pop(3)\n",
    "print(y)\n",
    "\n",
    "'Add [math.pi, math.e, 3-1j, False] to y'\n",
    "y.extend([[math.pi, math.e, 3-1j, False]])\n",
    "print(y)"
   ]
  },
  {
   "cell_type": "code",
   "execution_count": 25,
   "metadata": {},
   "outputs": [
    {
     "output_type": "stream",
     "name": "stdout",
     "text": [
      "[[8, 7, 0, 1], ['abc', True, -3, 12], [True, 2.718281828459045, (3-1j), False]]\n[[8, 7, 0, 1], ['abc', True, -3, 12], [True, 2.718281828459045, (3-1j), False]]\n[[8, 7, 0, 1], ['abc', True, -3, 12], [True, 2.718281828459045, (3-1j), False]]\n"
     ]
    }
   ],
   "source": [
    "'Let z be equal to y in 2(d), z = y'\n",
    "z = y\n",
    "print(z)\n",
    "\n",
    "'Replace z[2][0] to True. What happened to y?'\n",
    "z[2][0] = True\n",
    "print(y)\n",
    "print(z)\n",
    "'the y value changed into a true boolean instead of pi. This is called regeneration of y'\n",
    "\n",
    "'''How should we generate z so that the definition of y is not affected? (Note that\n",
    "the copy method will not work here'''\n",
    "import copy\n",
    "z = copy.deepcopy(y)\n",
    "z[2][0] = True"
   ]
  },
  {
   "cell_type": "code",
   "execution_count": 29,
   "metadata": {},
   "outputs": [
    {
     "output_type": "stream",
     "name": "stdout",
     "text": [
      "{'name': 'Jane', 'age': 22, 'courses': ['MATH131', 'ANTH201'], 'phone': '555-788-5544'}\n555-788-5544\nCourses: MATH131 - ANTH201 - ECO387\n"
     ]
    }
   ],
   "source": [
    "'''Generate a dictionary named student with the following keys: \"name\", \"age\",\n",
    "\"courses\", \"phone\" and corresponding values \"Jane\", 22, [\"MATH131\", \"ANTH201\"],\n",
    "\"555-788-5544\". '''\n",
    "student = {'name':'Jane', 'age':22, 'courses':['MATH131', 'ANTH201'], 'phone':'555-788-5544'}\n",
    "print(student)\n",
    "\n",
    "'Print students phone'\n",
    "print(student.get('phone'))\n",
    "\n",
    "'''Update student's age to 24 and courses to [\"MATH131\",\"ANTH201\",\"ECO387\"] '''\n",
    "student.update({'age':24, 'courses':[\"MATH131\", \"ANTH201\", \"ECO387\"]})\n",
    "\n",
    "'Drop the phone number from the dictionary'\n",
    "del student['phone']\n",
    "\n",
    "''' Generate a new string variable named courses from the values in the courses\n",
    "such that course names are seprated by \"-\", and now print it.'''\n",
    "courses = ' - '.join(student['courses'])\n",
    "print(\"Courses: \" + courses)"
   ]
  },
  {
   "cell_type": "code",
   "execution_count": 38,
   "metadata": {},
   "outputs": [
    {
     "output_type": "execute_result",
     "data": {
      "text/plain": [
       "51"
      ]
     },
     "metadata": {},
     "execution_count": 38
    }
   ],
   "source": [
    "'''Generate an empty set named w1'''\n",
    "w1 = set()\n",
    "\n",
    "'Add the following elements to w1: {2,4,6,...,100}'\n",
    "w1.update(range(2,100,2))\n",
    "\n",
    "'Generate a new set w1 with the elements {-100, -98,...,98, 100}'\n",
    "w2 = set()\n",
    "w2.update(range(-100,100,2))\n",
    "\n",
    "'Find the number of elements in the intersection of w1 and w2'\n",
    "len(w2.intersection(w1))\n",
    "\n",
    "'Find the number of elements in the set difference between w2 and w1'\n",
    "len(w2.difference(w1))\n",
    "\n"
   ]
  },
  {
   "cell_type": "code",
   "execution_count": null,
   "metadata": {},
   "outputs": [],
   "source": []
  }
 ]
}